{
  "nbformat": 4,
  "nbformat_minor": 0,
  "metadata": {
    "colab": {
      "name": "1. bassline model",
      "provenance": [],
      "collapsed_sections": [],
      "authorship_tag": "ABX9TyPaZbG6cw9kYKaYMwjGgbkU",
      "include_colab_link": true
    },
    "kernelspec": {
      "name": "python3",
      "display_name": "Python 3"
    },
    "language_info": {
      "name": "python"
    }
  },
  "cells": [
    {
      "cell_type": "markdown",
      "metadata": {
        "id": "view-in-github",
        "colab_type": "text"
      },
      "source": [
        "<a href=\"https://colab.research.google.com/github/SanGyuk-Raccoon/DACON_1/blob/main/1_bassline_model.ipynb\" target=\"_parent\"><img src=\"https://colab.research.google.com/assets/colab-badge.svg\" alt=\"Open In Colab\"/></a>"
      ]
    },
    {
      "cell_type": "code",
      "metadata": {
        "colab": {
          "base_uri": "https://localhost:8080/"
        },
        "id": "ICxBZVuVoacR",
        "outputId": "b22e0c5a-6755-4138-a4a5-ce04e545695b"
      },
      "source": [
        "from google.colab import drive\n",
        "drive.mount('/content/drive')\n"
      ],
      "execution_count": 2,
      "outputs": [
        {
          "output_type": "stream",
          "text": [
            "Mounted at /content/drive\n"
          ],
          "name": "stdout"
        }
      ]
    },
    {
      "cell_type": "code",
      "metadata": {
        "id": "LWbUeYhioxcF"
      },
      "source": [
        "import warnings\n",
        "warnings.filterwarnings('ignore')\n",
        "import numpy as np\n",
        "import pandas as pd   \n",
        "import matplotlib.pyplot as plt\n",
        "import seaborn as sns\n",
        "\n",
        "from sklearn.preprocessing import OneHotEncoder\n",
        "\n",
        "from sklearn.model_selection import train_test_split\n",
        "from sklearn.model_selection import StratifiedKFold\n",
        "\n",
        "from lightgbm import LGBMClassifier\n",
        "import xgboost\n",
        "\n",
        "from sklearn.metrics import log_loss"
      ],
      "execution_count": 13,
      "outputs": []
    },
    {
      "cell_type": "code",
      "metadata": {
        "id": "ZOibJqP2oytc"
      },
      "source": [
        "# Load DATA\n",
        "train = pd.read_csv(\"/content/drive/MyDrive/DACON/[월간 데이콘] 14. 신용카드 사용자 연체 예측 AI/train.csv\")\n",
        "\n",
        "test = pd.read_csv(\"/content/drive/MyDrive/DACON/[월간 데이콘] 14. 신용카드 사용자 연체 예측 AI/test.csv\")"
      ],
      "execution_count": 4,
      "outputs": []
    },
    {
      "cell_type": "code",
      "metadata": {
        "id": "pbY4aV6QPiku"
      },
      "source": [
        "# pre_processing\n",
        "def pre_processing(DATA) :\n",
        "  data = DATA\n",
        "\n",
        "  ## Delete index\n",
        "  data = data.drop('index', axis = 1)\n",
        "\n",
        "  ## Delete FLAG_MOBIL : train + test에서 값이 1밖에 없음 -> 무의미함\n",
        "  data = data.drop('FLAG_MOBIL', axis = 1)\n",
        "\n",
        "  ## Delete occyp_type : 결측값이 있어서 삭제함\n",
        "  data = data.drop('occyp_type', axis = 1)\n",
        "\n",
        "  ## Mapping Categorical variable\n",
        "  # 1. gender\n",
        "  mapping_gender = {\n",
        "      'F' : 0, # Female = 0\n",
        "      'M' : 1  # Male = 1\n",
        "  }\n",
        "  data.gender = data.gender.map(mapping_gender)\n",
        "\n",
        "  # 2. car\n",
        "  mapping_car = {\n",
        "      'N' : 0,\n",
        "      'Y' : 1\n",
        "  }\n",
        "  data.car = data.car.map(mapping_car)\n",
        "\n",
        "  # 3. reality\n",
        "  mapping_reality = {\n",
        "      'N' : 0,\n",
        "      'Y' : 1\n",
        "  }\n",
        "  data.reality = data.reality.map(mapping_reality)\n",
        "\n",
        "  # 4. edu_type : Ordinal variable\n",
        "  mapping_edu_type = {\n",
        "    'Lower secondary' : 0, # 중학교 미만\n",
        "    'Secondary / secondary special' : 1, #중학교\n",
        "    'Incomplete higher' : 2, # 고등학교 중퇴\n",
        "    'Higher education' : 3, # 고등학교 졸업\n",
        "    'Academic degree' : 4 # 학사 이상\n",
        "  }\n",
        "  data.edu_type = data.edu_type.map(mapping_edu_type)\n",
        "\n",
        "  ## one-hot encoding\n",
        "  var = ['income_type',\n",
        "        'family_type',\n",
        "        'house_type']\n",
        "\n",
        "  onehot_encoder = OneHotEncoder()\n",
        "  onehot_encoder.fit(data.loc[:, var])\n",
        "  onehot_df = pd.DataFrame(onehot_encoder.transform(train.loc[:,var]).toarray(), \n",
        "              columns=onehot_encoder.get_feature_names(var))\n",
        "\n",
        "  data.drop(var, inplace = True, axis = 1)\n",
        "  data = pd.concat([data, onehot_df], axis = 1)\n",
        "\n",
        "  ## child num. 5를 최대로 설정\n",
        "  data.loc[data['child_num'] > 5,'child_num'] = 5\n",
        "\n",
        "  ## family_size 7을 최대로 설정\n",
        "  data.loc[data['family_size'] > 7,'family_size'] = 7\n",
        "\n",
        "  ## DAYS_BIRTH -> 나이(월)\n",
        "  data['age'] = -data['DAYS_BIRTH'] / (365 / 12)\n",
        "  data.drop('DAYS_BIRTH', axis = 1, inplace = True)\n",
        "\n",
        "  ## DAYS_EMPLOYES -> 경력(월)\n",
        "  data['career'] = data['DAYS_EMPLOYED'].apply( lambda x : - x / (365 / 12) if x < 0 else 0)\n",
        "  data.drop('DAYS_EMPLOYED', axis = 1, inplace = True)\n",
        "\n",
        "  ## Begin_month -> 양수로\n",
        "  data['begin_month'] = - data['begin_month']\n",
        "\n",
        "  return data"
      ],
      "execution_count": 49,
      "outputs": []
    },
    {
      "cell_type": "code",
      "metadata": {
        "id": "3ZrPGpyTXM97"
      },
      "source": [
        "# Split data set. \n",
        "target = train['credit']\n",
        "train_data = train.drop('credit', axis = 1)\n",
        "train_data = pre_processing(train_data)\n",
        "\n",
        "X_train, X_valid, y_train, y_valid = train_test_split(train_data,\n",
        "                                                      target,\n",
        "                                                      test_size=0.2,\n",
        "                                                      shuffle = True,\n",
        "                                                      stratify=target,\n",
        "                                                      random_state=2)"
      ],
      "execution_count": 65,
      "outputs": []
    },
    {
      "cell_type": "code",
      "metadata": {
        "colab": {
          "base_uri": "https://localhost:8080/"
        },
        "id": "3gxiwRP5hXh5",
        "outputId": "b4e25b2f-80a3-4b6e-c7e5-308023c50749"
      },
      "source": [
        "# lgb model\n",
        "lgb_model = LGBMClassifier(n_estimators=1000)\n",
        "lgb_model.fit(X_train, y_train, \n",
        "            eval_set=[(X_train, y_train), (X_valid, y_valid)], \n",
        "            early_stopping_rounds=30,\n",
        "            verbose=100)"
      ],
      "execution_count": 101,
      "outputs": [
        {
          "output_type": "stream",
          "text": [
            "Training until validation scores don't improve for 30 rounds.\n",
            "[100]\ttraining's multi_logloss: 0.682004\tvalid_1's multi_logloss: 0.760092\n",
            "[200]\ttraining's multi_logloss: 0.608168\tvalid_1's multi_logloss: 0.74311\n",
            "[300]\ttraining's multi_logloss: 0.554609\tvalid_1's multi_logloss: 0.7361\n",
            "[400]\ttraining's multi_logloss: 0.507722\tvalid_1's multi_logloss: 0.734116\n",
            "Early stopping, best iteration is:\n",
            "[384]\ttraining's multi_logloss: 0.514808\tvalid_1's multi_logloss: 0.733514\n"
          ],
          "name": "stdout"
        },
        {
          "output_type": "execute_result",
          "data": {
            "text/plain": [
              "LGBMClassifier(boosting_type='gbdt', class_weight=None, colsample_bytree=1.0,\n",
              "               importance_type='split', learning_rate=0.1, max_depth=-1,\n",
              "               min_child_samples=20, min_child_weight=0.001, min_split_gain=0.0,\n",
              "               n_estimators=1000, n_jobs=-1, num_leaves=31, objective=None,\n",
              "               random_state=None, reg_alpha=0.0, reg_lambda=0.0, silent=True,\n",
              "               subsample=1.0, subsample_for_bin=200000, subsample_freq=0)"
            ]
          },
          "metadata": {
            "tags": []
          },
          "execution_count": 101
        }
      ]
    },
    {
      "cell_type": "code",
      "metadata": {
        "colab": {
          "base_uri": "https://localhost:8080/"
        },
        "id": "p_ATUWm1uv5q",
        "outputId": "33ac414d-f4dd-4a8f-d3f6-ca4a01ef5569"
      },
      "source": [
        "# Calculate log loss\n",
        "prob_valid_lgb = lgb_model.predict_proba(X_valid)\n",
        "log_loss(y_valid, prob_valid_lgb)"
      ],
      "execution_count": 102,
      "outputs": [
        {
          "output_type": "execute_result",
          "data": {
            "text/plain": [
              "0.7335144371223611"
            ]
          },
          "metadata": {
            "tags": []
          },
          "execution_count": 102
        }
      ]
    },
    {
      "cell_type": "code",
      "metadata": {
        "colab": {
          "base_uri": "https://localhost:8080/"
        },
        "id": "jUAuYKFFkm2X",
        "outputId": "708b1d21-2d04-482f-faf9-3ffe97ec1b27"
      },
      "source": [
        "# xgb model\n",
        "dtrain = xgboost.DMatrix(data = X_train, label = y_train)\n",
        "dvalid = xgboost.DMatrix(data = X_valid, label = y_valid)\n",
        "\n",
        "eval_list = [(dtrain, 'train'),\n",
        "             (dvalid, 'valid')]\n",
        "\n",
        "\n",
        "params = {\n",
        "    'max_depth' : 8,\n",
        "    'eta' : 0.1,\n",
        "    'objective' : 'multi:softprob',\n",
        "    'eval_metric' : 'mlogloss',\n",
        "    'early_stoppings' : 100,\n",
        "    'num_class' : 3,\n",
        "    'sub_sample' : 0.8\n",
        "}\n",
        "xgb_model = xgboost.train(params = params,\n",
        "                      dtrain = dtrain,\n",
        "                      evals = eval_list,\n",
        "                      num_boost_round = 400,\n",
        "                      verbose_eval = 10\n",
        "                      )"
      ],
      "execution_count": 82,
      "outputs": [
        {
          "output_type": "stream",
          "text": [
            "[0]\ttrain-mlogloss:1.05367\tvalid-mlogloss:1.05472\n",
            "[10]\ttrain-mlogloss:0.84678\tvalid-mlogloss:0.855115\n",
            "[20]\ttrain-mlogloss:0.793771\tvalid-mlogloss:0.809819\n",
            "[30]\ttrain-mlogloss:0.771931\tvalid-mlogloss:0.795368\n",
            "[40]\ttrain-mlogloss:0.75741\tvalid-mlogloss:0.787972\n",
            "[50]\ttrain-mlogloss:0.745758\tvalid-mlogloss:0.783371\n",
            "[60]\ttrain-mlogloss:0.734428\tvalid-mlogloss:0.778228\n",
            "[70]\ttrain-mlogloss:0.724647\tvalid-mlogloss:0.774352\n",
            "[80]\ttrain-mlogloss:0.715601\tvalid-mlogloss:0.771535\n",
            "[90]\ttrain-mlogloss:0.707355\tvalid-mlogloss:0.768948\n",
            "[100]\ttrain-mlogloss:0.699551\tvalid-mlogloss:0.766506\n",
            "[110]\ttrain-mlogloss:0.691598\tvalid-mlogloss:0.764024\n",
            "[120]\ttrain-mlogloss:0.683846\tvalid-mlogloss:0.76178\n",
            "[130]\ttrain-mlogloss:0.677422\tvalid-mlogloss:0.759867\n",
            "[140]\ttrain-mlogloss:0.669894\tvalid-mlogloss:0.757475\n",
            "[150]\ttrain-mlogloss:0.664267\tvalid-mlogloss:0.755968\n",
            "[160]\ttrain-mlogloss:0.658061\tvalid-mlogloss:0.754219\n",
            "[170]\ttrain-mlogloss:0.651056\tvalid-mlogloss:0.75259\n",
            "[180]\ttrain-mlogloss:0.644723\tvalid-mlogloss:0.751191\n",
            "[190]\ttrain-mlogloss:0.638389\tvalid-mlogloss:0.749511\n",
            "[200]\ttrain-mlogloss:0.632725\tvalid-mlogloss:0.74746\n",
            "[210]\ttrain-mlogloss:0.627216\tvalid-mlogloss:0.746461\n",
            "[220]\ttrain-mlogloss:0.622298\tvalid-mlogloss:0.745214\n",
            "[230]\ttrain-mlogloss:0.617137\tvalid-mlogloss:0.744047\n",
            "[240]\ttrain-mlogloss:0.61141\tvalid-mlogloss:0.742577\n",
            "[250]\ttrain-mlogloss:0.603818\tvalid-mlogloss:0.741214\n",
            "[260]\ttrain-mlogloss:0.598063\tvalid-mlogloss:0.740607\n",
            "[270]\ttrain-mlogloss:0.593657\tvalid-mlogloss:0.739799\n",
            "[280]\ttrain-mlogloss:0.590084\tvalid-mlogloss:0.739346\n",
            "[290]\ttrain-mlogloss:0.586162\tvalid-mlogloss:0.738696\n",
            "[300]\ttrain-mlogloss:0.581532\tvalid-mlogloss:0.738741\n",
            "[310]\ttrain-mlogloss:0.577088\tvalid-mlogloss:0.738198\n",
            "[320]\ttrain-mlogloss:0.573191\tvalid-mlogloss:0.737657\n",
            "[330]\ttrain-mlogloss:0.568917\tvalid-mlogloss:0.7374\n",
            "[340]\ttrain-mlogloss:0.564783\tvalid-mlogloss:0.736933\n",
            "[350]\ttrain-mlogloss:0.560375\tvalid-mlogloss:0.736252\n",
            "[360]\ttrain-mlogloss:0.555871\tvalid-mlogloss:0.735848\n",
            "[370]\ttrain-mlogloss:0.550616\tvalid-mlogloss:0.734921\n",
            "[380]\ttrain-mlogloss:0.545635\tvalid-mlogloss:0.734475\n",
            "[390]\ttrain-mlogloss:0.541261\tvalid-mlogloss:0.733635\n",
            "[399]\ttrain-mlogloss:0.53693\tvalid-mlogloss:0.732975\n"
          ],
          "name": "stdout"
        }
      ]
    },
    {
      "cell_type": "code",
      "metadata": {
        "colab": {
          "base_uri": "https://localhost:8080/"
        },
        "id": "ghvLF8nRqnnK",
        "outputId": "c7866afe-6cbb-4202-e3d9-3d2bb1f63985"
      },
      "source": [
        "# Calculate log loss\n",
        "prob_valid_xgb = xgb_model.predict(dvalid)\n",
        "log_loss(y_valid, prob_valid_xgb)"
      ],
      "execution_count": 95,
      "outputs": [
        {
          "output_type": "execute_result",
          "data": {
            "text/plain": [
              "0.732975275842656"
            ]
          },
          "metadata": {
            "tags": []
          },
          "execution_count": 95
        }
      ]
    },
    {
      "cell_type": "code",
      "metadata": {
        "id": "MLzxGdQWouYv"
      },
      "source": [
        "# "
      ],
      "execution_count": 99,
      "outputs": []
    },
    {
      "cell_type": "code",
      "metadata": {
        "id": "_H28QnO-rPmi"
      },
      "source": [
        "X_test = pre_processing(test)"
      ],
      "execution_count": 99,
      "outputs": []
    },
    {
      "cell_type": "code",
      "metadata": {
        "id": "A3qWsXANvjHI"
      },
      "source": [
        "prob_test_lgb = lgb_model.predict_proba(X_test)"
      ],
      "execution_count": 104,
      "outputs": []
    },
    {
      "cell_type": "code",
      "metadata": {
        "id": "uke1oZQkrSEP"
      },
      "source": [
        "dtest = xgboost.DMatrix(data = X_test)\n",
        "prob_test_xgb = xgb_model.predict(dtest)"
      ],
      "execution_count": 100,
      "outputs": []
    }
  ]
}