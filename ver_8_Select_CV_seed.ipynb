{
  "nbformat": 4,
  "nbformat_minor": 0,
  "metadata": {
    "colab": {
      "name": "ver 8. Select CV seed",
      "provenance": [],
      "collapsed_sections": [],
      "authorship_tag": "ABX9TyORbyzNkxtwWVsQTo20olfn",
      "include_colab_link": true
    },
    "kernelspec": {
      "name": "python3",
      "display_name": "Python 3"
    },
    "language_info": {
      "name": "python"
    }
  },
  "cells": [
    {
      "cell_type": "markdown",
      "metadata": {
        "id": "view-in-github",
        "colab_type": "text"
      },
      "source": [
        "<a href=\"https://colab.research.google.com/github/SanGyuk-Raccoon/DACON_1/blob/main/ver_8_Select_CV_seed.ipynb\" target=\"_parent\"><img src=\"https://colab.research.google.com/assets/colab-badge.svg\" alt=\"Open In Colab\"/></a>"
      ]
    },
    {
      "cell_type": "code",
      "metadata": {
        "id": "q6EXMVhA0A4d"
      },
      "source": [
        ""
      ],
      "execution_count": null,
      "outputs": []
    },
    {
      "cell_type": "code",
      "metadata": {
        "colab": {
          "base_uri": "https://localhost:8080/"
        },
        "id": "kPC2gY_uB2-e",
        "outputId": "5b5e2549-f90a-42b9-9da9-fcf7d8771ca9"
      },
      "source": [
        "import warnings\n",
        "warnings.filterwarnings('ignore')\n",
        "import numpy as np\n",
        "import pandas as pd   \n",
        "import matplotlib.pyplot as plt\n",
        "import seaborn as sns\n",
        "\n",
        "from sklearn.preprocessing import OneHotEncoder, LabelEncoder\n",
        "from sklearn.preprocessing import MinMaxScaler\n",
        "\n",
        "from sklearn.model_selection import train_test_split\n",
        "from sklearn.model_selection import StratifiedKFold\n",
        "\n",
        "from lightgbm import LGBMClassifier\n",
        "import xgboost\n",
        "\n",
        "\n",
        "from sklearn.metrics import log_loss\n",
        "from google.colab import drive\n",
        "drive.mount('/content/drive')"
      ],
      "execution_count": null,
      "outputs": [
        {
          "output_type": "stream",
          "text": [
            "Mounted at /content/drive\n"
          ],
          "name": "stdout"
        }
      ]
    },
    {
      "cell_type": "code",
      "metadata": {
        "id": "KRIzHG3kbBx8"
      },
      "source": [
        "### 연속형 변수를 구간화하는 함수\n",
        "###############################################################\n",
        "def continuous_to_quantile(var, k, DATA) :\n",
        "  t = 1 / k\n",
        "  q = 0\n",
        "  Q = [np.quantile( DATA[var] , q)]\n",
        "\n",
        "  for i in range(k) :\n",
        "    q += t\n",
        "    Q1 = np.quantile( DATA[var] , q)\n",
        "    Q.append(Q1)\n",
        "\n",
        "  for i in range(k-1) :\n",
        "    DATA.loc[(DATA[var] >= Q[i]) & (DATA[var] <= Q[i+1]), f'{var}_Quantile_{k}'] = i\n",
        "#####################################################################\n",
        "\n",
        "## 그룹에 대해서 평균을 해주는 함수\n",
        "#######################################################\n",
        "def conti_by_cate(GROUP, CONTI, DATA, method) :\n",
        "  group = GROUP\n",
        "  var = CONTI\n",
        "  vec = []\n",
        "  if method == 'mean' :\n",
        "    vec = DATA.groupby( group )[ var ].mean()\n",
        "  elif method == 'min' :\n",
        "    vec = DATA.groupby( group )[ var ].min()\n",
        "  elif method == 'max' :\n",
        "    vec = DATA.groupby( group )[ var ].max()\n",
        "  elif method == 'skew' :\n",
        "    vec = DATA.groupby( group )[ var ].skew()\n",
        "  elif method == 'med' :\n",
        "    vec = DATA.groupby( group )[ var ].median()\n",
        "  idx = vec.index\n",
        "\n",
        "  for i in range(len(vec)) :\n",
        "    DATA.loc[DATA[group] == idx[i], f'{var}_by_{group}_{method}'] = vec[i]\n",
        "#######################################################\n",
        "\n",
        "## Normalization\n",
        "#######################################################\n",
        "def norm_scale(data, var) :\n",
        "  M = data[ var ].max()\n",
        "  m = data[ var ].min()\n",
        "  result = (data[ var ] - m) / ( M - m )\n",
        "\n",
        "  return result\n",
        "\n",
        "## Standardization\n",
        "#######################################################\n",
        "def stand_scale(data, var) :\n",
        "  M = data[ var ].max()\n",
        "  sd = data[ var ].std()\n",
        "  result = ( data[ var ] - M ) / sd\n",
        "\n",
        "  return result"
      ],
      "execution_count": 216,
      "outputs": []
    },
    {
      "cell_type": "code",
      "metadata": {
        "colab": {
          "base_uri": "https://localhost:8080/"
        },
        "id": "ch1RwPx_cClg",
        "outputId": "c83482e1-eb79-4678-818f-d80f89edc763"
      },
      "source": [
        ""
      ],
      "execution_count": 215,
      "outputs": [
        {
          "output_type": "execute_result",
          "data": {
            "text/plain": [
              "1.0000000000000635"
            ]
          },
          "metadata": {
            "tags": []
          },
          "execution_count": 215
        }
      ]
    },
    {
      "cell_type": "code",
      "metadata": {
        "id": "5FRQWwvXB5DW"
      },
      "source": [
        "# Load DATA\n",
        "train_raw = pd.read_csv(\"/content/drive/MyDrive/DACON/[월간 데이콘] 14. 신용카드 사용자 연체 예측 AI/train_update.csv\")\n",
        "\n",
        "test_raw = pd.read_csv(\"/content/drive/MyDrive/DACON/[월간 데이콘] 14. 신용카드 사용자 연체 예측 AI/test_update.csv\")\n"
      ],
      "execution_count": null,
      "outputs": []
    },
    {
      "cell_type": "code",
      "metadata": {
        "id": "oEfOztpnCA7O"
      },
      "source": [
        "def pre_processing(DATA) :\n",
        "  data =  DATA\n",
        "\n",
        "  ############################################################################################\n",
        "  \n",
        "\n",
        "  #############################################################################################\n",
        "  data = data.drop(['index', 'FLAG_MOBIL'], axis = 1)\n",
        "\n",
        "  #### 1. gender\n",
        "  mapping_gender = {\n",
        "      'F' : 0, # Female = 0\n",
        "      'M' : 1  # Male = 1\n",
        "  }\n",
        "  data['gender_mapping'] = data.gender.map(mapping_gender)\n",
        "\n",
        "\n",
        "  # 2. car\n",
        "  mapping_car = {\n",
        "      'N' : 0,\n",
        "      'Y' : 1\n",
        "  }\n",
        "  data['car_mapping'] = data.car.map(mapping_car)\n",
        "\n",
        "  # 3. reality\n",
        "  mapping_reality = {\n",
        "      'N' : 0,\n",
        "      'Y' : 1\n",
        "  }\n",
        "  data['reality_mapping'] = data.reality.map(mapping_reality)\n",
        "\n",
        "  ## \n",
        "  data['income_total'] = - data['income_total']\n",
        "  data['income_total'] = norm_scale(data, 'income_total')\n",
        "  \n",
        "  data['DAYS_BIRTH'] = - data['DAYS_BIRTH']\n",
        "  data['DAYS_BIRTH'] = norm_scale(data, 'DAYS_BIRTH')\n",
        "\n",
        "  data['DAYS_EMPLOYED'] = data['DAYS_EMPLOYED'].apply( lambda x : - x if x < 0 else 0)\n",
        "  data['DAYS_EMPLOYED'] = norm_scale(data, 'DAYS_EMPLOYED')\n",
        "\n",
        "  data['begin_month'] = - data['begin_month']\n",
        "  data['begin_month'] = norm_scale(data, 'begin_month')\n",
        "\n",
        "\n",
        "  \n",
        "\n",
        "  ########################################################################\n",
        "  var = ['occyp_type', 'income_type',\n",
        "        'family_type', 'house_type', 'edu_type'\n",
        "         ]\n",
        "\n",
        "\n",
        "  ######################################################\n",
        "  data = data.drop(['gender', 'car', 'reality'] + var, axis = 1)\n",
        "  \n",
        "\n",
        "  return data"
      ],
      "execution_count": 221,
      "outputs": []
    },
    {
      "cell_type": "code",
      "metadata": {
        "colab": {
          "base_uri": "https://localhost:8080/",
          "height": 296
        },
        "id": "rAIQ3s0R1Xxy",
        "outputId": "0c3c27db-c0e0-4b8e-f3d9-fe6c465d852b"
      },
      "source": [
        "train_raw['income_total'].hist()\n",
        "print(train_raw['income_total'].max())"
      ],
      "execution_count": null,
      "outputs": [
        {
          "output_type": "stream",
          "text": [
            "1575000.0\n"
          ],
          "name": "stdout"
        },
        {
          "output_type": "display_data",
          "data": {
            "image/png": "[encoded data removed]",
            "text/plain": [
              "<Figure size 432x288 with 1 Axes>"
            ]
          },
          "metadata": {
            "tags": [],
            "needs_background": "light"
          }
        }
      ]
    },
    {
      "cell_type": "code",
      "metadata": {
        "colab": {
          "base_uri": "https://localhost:8080/",
          "height": 224
        },
        "id": "KFo60GHACQ4U",
        "outputId": "d5bb7de0-1dc0-4dfd-ab71-21c20f333fde"
      },
      "source": [
        "train = pre_processing(train_raw)\n",
        "train.head()"
      ],
      "execution_count": 222,
      "outputs": [
        {
          "output_type": "execute_result",
          "data": {
            "text/html": [
              "<div>\n",
              "<style scoped>\n",
              "    .dataframe tbody tr th:only-of-type {\n",
              "        vertical-align: middle;\n",
              "    }\n",
              "\n",
              "    .dataframe tbody tr th {\n",
              "        vertical-align: top;\n",
              "    }\n",
              "\n",
              "    .dataframe thead th {\n",
              "        text-align: right;\n",
              "    }\n",
              "</style>\n",
              "<table border=\"1\" class=\"dataframe\">\n",
              "  <thead>\n",
              "    <tr style=\"text-align: right;\">\n",
              "      <th></th>\n",
              "      <th>child_num</th>\n",
              "      <th>income_total</th>\n",
              "      <th>DAYS_BIRTH</th>\n",
              "      <th>DAYS_EMPLOYED</th>\n",
              "      <th>work_phone</th>\n",
              "      <th>phone</th>\n",
              "      <th>email</th>\n",
              "      <th>family_size</th>\n",
              "      <th>begin_month</th>\n",
              "      <th>credit</th>\n",
              "      <th>gender_mapping</th>\n",
              "      <th>car_mapping</th>\n",
              "      <th>reality_mapping</th>\n",
              "    </tr>\n",
              "  </thead>\n",
              "  <tbody>\n",
              "    <tr>\n",
              "      <th>0</th>\n",
              "      <td>0</td>\n",
              "      <td>0.886628</td>\n",
              "      <td>0.355018</td>\n",
              "      <td>0.299688</td>\n",
              "      <td>0</td>\n",
              "      <td>0</td>\n",
              "      <td>0</td>\n",
              "      <td>2.0</td>\n",
              "      <td>0.100000</td>\n",
              "      <td>1.0</td>\n",
              "      <td>0</td>\n",
              "      <td>0</td>\n",
              "      <td>0</td>\n",
              "    </tr>\n",
              "    <tr>\n",
              "      <th>1</th>\n",
              "      <td>1</td>\n",
              "      <td>0.857558</td>\n",
              "      <td>0.210638</td>\n",
              "      <td>0.098008</td>\n",
              "      <td>0</td>\n",
              "      <td>0</td>\n",
              "      <td>1</td>\n",
              "      <td>3.0</td>\n",
              "      <td>0.083333</td>\n",
              "      <td>1.0</td>\n",
              "      <td>0</td>\n",
              "      <td>0</td>\n",
              "      <td>1</td>\n",
              "    </tr>\n",
              "    <tr>\n",
              "      <th>2</th>\n",
              "      <td>0</td>\n",
              "      <td>0.726744</td>\n",
              "      <td>0.652376</td>\n",
              "      <td>0.282187</td>\n",
              "      <td>0</td>\n",
              "      <td>1</td>\n",
              "      <td>0</td>\n",
              "      <td>2.0</td>\n",
              "      <td>0.366667</td>\n",
              "      <td>2.0</td>\n",
              "      <td>1</td>\n",
              "      <td>1</td>\n",
              "      <td>1</td>\n",
              "    </tr>\n",
              "    <tr>\n",
              "      <th>3</th>\n",
              "      <td>0</td>\n",
              "      <td>0.886628</td>\n",
              "      <td>0.423167</td>\n",
              "      <td>0.133138</td>\n",
              "      <td>0</td>\n",
              "      <td>1</td>\n",
              "      <td>0</td>\n",
              "      <td>2.0</td>\n",
              "      <td>0.616667</td>\n",
              "      <td>0.0</td>\n",
              "      <td>0</td>\n",
              "      <td>0</td>\n",
              "      <td>1</td>\n",
              "    </tr>\n",
              "    <tr>\n",
              "      <th>4</th>\n",
              "      <td>0</td>\n",
              "      <td>0.915698</td>\n",
              "      <td>0.420244</td>\n",
              "      <td>0.133966</td>\n",
              "      <td>0</td>\n",
              "      <td>0</td>\n",
              "      <td>0</td>\n",
              "      <td>2.0</td>\n",
              "      <td>0.433333</td>\n",
              "      <td>2.0</td>\n",
              "      <td>0</td>\n",
              "      <td>1</td>\n",
              "      <td>1</td>\n",
              "    </tr>\n",
              "  </tbody>\n",
              "</table>\n",
              "</div>"
            ],
            "text/plain": [
              "   child_num  income_total  ...  car_mapping  reality_mapping\n",
              "0          0      0.886628  ...            0                0\n",
              "1          1      0.857558  ...            0                1\n",
              "2          0      0.726744  ...            1                1\n",
              "3          0      0.886628  ...            0                1\n",
              "4          0      0.915698  ...            1                1\n",
              "\n",
              "[5 rows x 13 columns]"
            ]
          },
          "metadata": {
            "tags": []
          },
          "execution_count": 222
        }
      ]
    },
    {
      "cell_type": "code",
      "metadata": {
        "colab": {
          "base_uri": "https://localhost:8080/",
          "height": 1000
        },
        "id": "ToeSfgmtKt9l",
        "outputId": "1284a071-8335-40c9-9647-0c29c64e273a"
      },
      "source": [
        "n = 1\n",
        "m = 1\n",
        "seed = 81288\n",
        "while m > 0.5 :\n",
        "  skf = StratifiedKFold(n_splits=5, shuffle=True, random_state=seed)\n",
        "  \n",
        "  folds=[]\n",
        "  for train_idx, valid_idx in skf.split(train, train['credit']):\n",
        "      folds.append((train_idx, valid_idx))\n",
        "\n",
        "  xgb_models={}\n",
        "  xgb_logloss = []\n",
        "  for fold in range(5):\n",
        "#      print(f'===================================={fold+1}============================================')\n",
        "      train_idx, valid_idx = folds[fold]\n",
        "      X_train, X_valid, y_train, y_valid = train.drop(['credit'],axis=1).loc[train_idx], train.drop(['credit'],axis=1).loc[valid_idx],\\\n",
        "                                      train['credit'][train_idx], train['credit'][valid_idx]                                  \n",
        "      \n",
        "      eval_list = [(X_train, y_train),\n",
        "                    (X_valid, y_valid)]\n",
        "\n",
        "      xgb_model = xgboost.XGBClassifier(objective = 'multi:softprob',\n",
        "                                        eval_metric = 'mlogloss',\n",
        "                                        learning_rate = 0.1,\n",
        "                                        early_stoppings = 100,\n",
        "                                        num_class = 3,\n",
        "                                        max_depth = 10,\n",
        "                                        n_estimators = 100                                   \n",
        "                                        ) \n",
        "      \n",
        "      xgb_model.fit(X_train,\n",
        "                y_train,\n",
        "                eval_set = eval_list,\n",
        "                verbose = False\n",
        "                )\n",
        "      \n",
        "      loss = log_loss(y_valid,\n",
        "                      xgb_model.predict_proba(X_valid))\n",
        "      xgb_logloss.append(loss)\n",
        "      xgb_models[fold]=xgb_model\n",
        "      m = max(abs((xgb_logloss - np.mean(xgb_logloss)) / np.std(xgb_logloss)))\n",
        "#      print(f'log_loss : {loss:.5f}')\n",
        "#      print(f'================================================================================\\n')\n",
        "\n",
        "#  print(f'Mean of log_loss : {np.mean(xgb_logloss):.5}')\n",
        "  print(f'{n} 번째 시도.....seed : {seed}, max : {m:.5f}, mean loss : {np.mean(xgb_logloss):.5}')\n",
        "  n = n + 1\n",
        "  seed = int(np.random.randint(0, 100000, size = 1))\n",
        "\n",
        "# the best seed : 81288\n"
      ],
      "execution_count": null,
      "outputs": [
        {
          "output_type": "stream",
          "text": [
            "1 번째 시도.....seed : 81288, max : 1.21318, mean loss : 0.74628\n",
            "2 번째 시도.....seed : 70672, max : 1.54072, mean loss : 0.74565\n",
            "3 번째 시도.....seed : 59871, max : 1.48969, mean loss : 0.74366\n",
            "4 번째 시도.....seed : 84818, max : 1.46124, mean loss : 0.74552\n",
            "5 번째 시도.....seed : 20740, max : 1.52362, mean loss : 0.74572\n",
            "6 번째 시도.....seed : 87547, max : 1.78384, mean loss : 0.74899\n",
            "7 번째 시도.....seed : 30173, max : 1.49372, mean loss : 0.74572\n",
            "8 번째 시도.....seed : 97328, max : 1.80034, mean loss : 0.74481\n",
            "9 번째 시도.....seed : 23046, max : 1.34775, mean loss : 0.74522\n",
            "10 번째 시도.....seed : 14428, max : 1.71685, mean loss : 0.74593\n",
            "11 번째 시도.....seed : 67802, max : 1.52379, mean loss : 0.74837\n",
            "12 번째 시도.....seed : 72577, max : 1.77433, mean loss : 0.7463\n",
            "13 번째 시도.....seed : 57301, max : 1.59952, mean loss : 0.74814\n",
            "14 번째 시도.....seed : 99102, max : 1.57927, mean loss : 0.74741\n",
            "15 번째 시도.....seed : 22754, max : 1.45359, mean loss : 0.74612\n",
            "16 번째 시도.....seed : 22697, max : 1.55408, mean loss : 0.74803\n",
            "17 번째 시도.....seed : 40608, max : 1.55479, mean loss : 0.74517\n",
            "18 번째 시도.....seed : 61359, max : 1.23296, mean loss : 0.74654\n",
            "19 번째 시도.....seed : 75911, max : 1.21509, mean loss : 0.74565\n",
            "20 번째 시도.....seed : 74945, max : 1.66492, mean loss : 0.74444\n",
            "21 번째 시도.....seed : 6426, max : 1.62344, mean loss : 0.74678\n",
            "22 번째 시도.....seed : 41916, max : 1.73562, mean loss : 0.74907\n",
            "23 번째 시도.....seed : 86868, max : 1.58025, mean loss : 0.74638\n",
            "24 번째 시도.....seed : 63729, max : 1.72315, mean loss : 0.74911\n",
            "25 번째 시도.....seed : 85279, max : 1.65807, mean loss : 0.7443\n",
            "26 번째 시도.....seed : 11145, max : 1.60742, mean loss : 0.74692\n",
            "27 번째 시도.....seed : 21410, max : 1.58793, mean loss : 0.74402\n",
            "28 번째 시도.....seed : 19537, max : 1.78872, mean loss : 0.74565\n",
            "29 번째 시도.....seed : 57845, max : 1.56065, mean loss : 0.74828\n",
            "30 번째 시도.....seed : 97962, max : 1.36140, mean loss : 0.74785\n",
            "31 번째 시도.....seed : 23625, max : 1.33205, mean loss : 0.74594\n",
            "32 번째 시도.....seed : 58728, max : 1.80627, mean loss : 0.7456\n",
            "33 번째 시도.....seed : 96477, max : 1.50959, mean loss : 0.74623\n",
            "34 번째 시도.....seed : 7246, max : 1.83469, mean loss : 0.74653\n",
            "35 번째 시도.....seed : 39527, max : 1.58818, mean loss : 0.74736\n",
            "36 번째 시도.....seed : 95374, max : 1.35350, mean loss : 0.74668\n",
            "37 번째 시도.....seed : 86498, max : 1.81963, mean loss : 0.74586\n",
            "38 번째 시도.....seed : 53730, max : 1.78573, mean loss : 0.74554\n",
            "39 번째 시도.....seed : 49662, max : 1.46090, mean loss : 0.74864\n",
            "40 번째 시도.....seed : 77984, max : 1.35127, mean loss : 0.74525\n",
            "41 번째 시도.....seed : 91984, max : 1.74841, mean loss : 0.74583\n",
            "42 번째 시도.....seed : 48724, max : 1.58473, mean loss : 0.74657\n",
            "43 번째 시도.....seed : 73477, max : 1.83249, mean loss : 0.74406\n",
            "44 번째 시도.....seed : 43720, max : 1.55966, mean loss : 0.74909\n",
            "45 번째 시도.....seed : 51516, max : 1.33710, mean loss : 0.74745\n",
            "46 번째 시도.....seed : 10371, max : 1.60807, mean loss : 0.74723\n",
            "47 번째 시도.....seed : 2795, max : 1.50734, mean loss : 0.74767\n",
            "48 번째 시도.....seed : 99242, max : 1.73316, mean loss : 0.74846\n",
            "49 번째 시도.....seed : 34896, max : 1.62805, mean loss : 0.74536\n",
            "50 번째 시도.....seed : 47795, max : 1.85299, mean loss : 0.74775\n",
            "51 번째 시도.....seed : 41187, max : 1.28693, mean loss : 0.74596\n",
            "52 번째 시도.....seed : 99503, max : 1.34332, mean loss : 0.7493\n",
            "53 번째 시도.....seed : 55091, max : 1.62910, mean loss : 0.74612\n",
            "54 번째 시도.....seed : 86562, max : 1.41160, mean loss : 0.74642\n",
            "55 번째 시도.....seed : 38601, max : 1.61942, mean loss : 0.74776\n",
            "56 번째 시도.....seed : 63987, max : 1.61382, mean loss : 0.74624\n",
            "57 번째 시도.....seed : 79266, max : 1.58502, mean loss : 0.74763\n",
            "58 번째 시도.....seed : 63787, max : 1.55488, mean loss : 0.74647\n",
            "59 번째 시도.....seed : 53492, max : 1.69243, mean loss : 0.74624\n",
            "60 번째 시도.....seed : 16970, max : 1.63746, mean loss : 0.74827\n",
            "61 번째 시도.....seed : 95982, max : 1.73805, mean loss : 0.74373\n",
            "62 번째 시도.....seed : 5123, max : 1.42477, mean loss : 0.74768\n",
            "63 번째 시도.....seed : 88939, max : 1.95842, mean loss : 0.74607\n",
            "64 번째 시도.....seed : 85496, max : 1.47071, mean loss : 0.74564\n",
            "65 번째 시도.....seed : 43310, max : 1.49430, mean loss : 0.74585\n",
            "66 번째 시도.....seed : 34572, max : 1.86678, mean loss : 0.74598\n",
            "67 번째 시도.....seed : 88506, max : 1.60503, mean loss : 0.74874\n",
            "68 번째 시도.....seed : 34077, max : 1.84336, mean loss : 0.74933\n",
            "69 번째 시도.....seed : 16188, max : 1.58598, mean loss : 0.746\n",
            "70 번째 시도.....seed : 21204, max : 1.79164, mean loss : 0.74814\n",
            "71 번째 시도.....seed : 86637, max : 1.59935, mean loss : 0.74621\n",
            "72 번째 시도.....seed : 19747, max : 1.36237, mean loss : 0.74865\n",
            "73 번째 시도.....seed : 87064, max : 1.81374, mean loss : 0.746\n",
            "74 번째 시도.....seed : 45202, max : 1.35653, mean loss : 0.74849\n",
            "75 번째 시도.....seed : 80272, max : 1.61215, mean loss : 0.74578\n",
            "76 번째 시도.....seed : 71803, max : 1.85770, mean loss : 0.74822\n",
            "77 번째 시도.....seed : 83616, max : 1.27352, mean loss : 0.74639\n",
            "78 번째 시도.....seed : 57142, max : 1.29225, mean loss : 0.74635\n",
            "79 번째 시도.....seed : 46771, max : 1.91504, mean loss : 0.74611\n",
            "80 번째 시도.....seed : 83743, max : 1.37039, mean loss : 0.74875\n",
            "81 번째 시도.....seed : 65051, max : 1.34640, mean loss : 0.74529\n"
          ],
          "name": "stdout"
        },
        {
          "output_type": "error",
          "ename": "KeyboardInterrupt",
          "evalue": "ignored",
          "traceback": [
            "\u001b[0;31m---------------------------------------------------------------------------\u001b[0m",
            "\u001b[0;31mKeyboardInterrupt\u001b[0m                         Traceback (most recent call last)",
            "\u001b[0;32m<ipython-input-210-e767c99bcf67>\u001b[0m in \u001b[0;36m<module>\u001b[0;34m()\u001b[0m\n\u001b[1;32m     31\u001b[0m                 \u001b[0my_train\u001b[0m\u001b[0;34m,\u001b[0m\u001b[0;34m\u001b[0m\u001b[0;34m\u001b[0m\u001b[0m\n\u001b[1;32m     32\u001b[0m                 \u001b[0meval_set\u001b[0m \u001b[0;34m=\u001b[0m \u001b[0meval_list\u001b[0m\u001b[0;34m,\u001b[0m\u001b[0;34m\u001b[0m\u001b[0;34m\u001b[0m\u001b[0m\n\u001b[0;32m---> 33\u001b[0;31m                 \u001b[0mverbose\u001b[0m \u001b[0;34m=\u001b[0m \u001b[0;32mFalse\u001b[0m\u001b[0;34m\u001b[0m\u001b[0;34m\u001b[0m\u001b[0m\n\u001b[0m\u001b[1;32m     34\u001b[0m                 )\n\u001b[1;32m     35\u001b[0m \u001b[0;34m\u001b[0m\u001b[0m\n",
            "\u001b[0;32m/usr/local/lib/python3.7/dist-packages/xgboost/sklearn.py\u001b[0m in \u001b[0;36mfit\u001b[0;34m(self, X, y, sample_weight, eval_set, eval_metric, early_stopping_rounds, verbose, xgb_model, sample_weight_eval_set, callbacks)\u001b[0m\n\u001b[1;32m    730\u001b[0m                               \u001b[0mevals_result\u001b[0m\u001b[0;34m=\u001b[0m\u001b[0mevals_result\u001b[0m\u001b[0;34m,\u001b[0m \u001b[0mobj\u001b[0m\u001b[0;34m=\u001b[0m\u001b[0mobj\u001b[0m\u001b[0;34m,\u001b[0m \u001b[0mfeval\u001b[0m\u001b[0;34m=\u001b[0m\u001b[0mfeval\u001b[0m\u001b[0;34m,\u001b[0m\u001b[0;34m\u001b[0m\u001b[0;34m\u001b[0m\u001b[0m\n\u001b[1;32m    731\u001b[0m                               \u001b[0mverbose_eval\u001b[0m\u001b[0;34m=\u001b[0m\u001b[0mverbose\u001b[0m\u001b[0;34m,\u001b[0m \u001b[0mxgb_model\u001b[0m\u001b[0;34m=\u001b[0m\u001b[0mxgb_model\u001b[0m\u001b[0;34m,\u001b[0m\u001b[0;34m\u001b[0m\u001b[0;34m\u001b[0m\u001b[0m\n\u001b[0;32m--> 732\u001b[0;31m                               callbacks=callbacks)\n\u001b[0m\u001b[1;32m    733\u001b[0m \u001b[0;34m\u001b[0m\u001b[0m\n\u001b[1;32m    734\u001b[0m         \u001b[0mself\u001b[0m\u001b[0;34m.\u001b[0m\u001b[0mobjective\u001b[0m \u001b[0;34m=\u001b[0m \u001b[0mxgb_options\u001b[0m\u001b[0;34m[\u001b[0m\u001b[0;34m\"objective\"\u001b[0m\u001b[0;34m]\u001b[0m\u001b[0;34m\u001b[0m\u001b[0;34m\u001b[0m\u001b[0m\n",
            "\u001b[0;32m/usr/local/lib/python3.7/dist-packages/xgboost/training.py\u001b[0m in \u001b[0;36mtrain\u001b[0;34m(params, dtrain, num_boost_round, evals, obj, feval, maximize, early_stopping_rounds, evals_result, verbose_eval, xgb_model, callbacks, learning_rates)\u001b[0m\n\u001b[1;32m    214\u001b[0m                            \u001b[0mevals\u001b[0m\u001b[0;34m=\u001b[0m\u001b[0mevals\u001b[0m\u001b[0;34m,\u001b[0m\u001b[0;34m\u001b[0m\u001b[0;34m\u001b[0m\u001b[0m\n\u001b[1;32m    215\u001b[0m                            \u001b[0mobj\u001b[0m\u001b[0;34m=\u001b[0m\u001b[0mobj\u001b[0m\u001b[0;34m,\u001b[0m \u001b[0mfeval\u001b[0m\u001b[0;34m=\u001b[0m\u001b[0mfeval\u001b[0m\u001b[0;34m,\u001b[0m\u001b[0;34m\u001b[0m\u001b[0;34m\u001b[0m\u001b[0m\n\u001b[0;32m--> 216\u001b[0;31m                            xgb_model=xgb_model, callbacks=callbacks)\n\u001b[0m\u001b[1;32m    217\u001b[0m \u001b[0;34m\u001b[0m\u001b[0m\n\u001b[1;32m    218\u001b[0m \u001b[0;34m\u001b[0m\u001b[0m\n",
            "\u001b[0;32m/usr/local/lib/python3.7/dist-packages/xgboost/training.py\u001b[0m in \u001b[0;36m_train_internal\u001b[0;34m(params, dtrain, num_boost_round, evals, obj, feval, xgb_model, callbacks)\u001b[0m\n\u001b[1;32m     72\u001b[0m         \u001b[0;31m# Skip the first update if it is a recovery step.\u001b[0m\u001b[0;34m\u001b[0m\u001b[0;34m\u001b[0m\u001b[0;34m\u001b[0m\u001b[0m\n\u001b[1;32m     73\u001b[0m         \u001b[0;32mif\u001b[0m \u001b[0mversion\u001b[0m \u001b[0;34m%\u001b[0m \u001b[0;36m2\u001b[0m \u001b[0;34m==\u001b[0m \u001b[0;36m0\u001b[0m\u001b[0;34m:\u001b[0m\u001b[0;34m\u001b[0m\u001b[0;34m\u001b[0m\u001b[0m\n\u001b[0;32m---> 74\u001b[0;31m             \u001b[0mbst\u001b[0m\u001b[0;34m.\u001b[0m\u001b[0mupdate\u001b[0m\u001b[0;34m(\u001b[0m\u001b[0mdtrain\u001b[0m\u001b[0;34m,\u001b[0m \u001b[0mi\u001b[0m\u001b[0;34m,\u001b[0m \u001b[0mobj\u001b[0m\u001b[0;34m)\u001b[0m\u001b[0;34m\u001b[0m\u001b[0;34m\u001b[0m\u001b[0m\n\u001b[0m\u001b[1;32m     75\u001b[0m             \u001b[0mbst\u001b[0m\u001b[0;34m.\u001b[0m\u001b[0msave_rabit_checkpoint\u001b[0m\u001b[0;34m(\u001b[0m\u001b[0;34m)\u001b[0m\u001b[0;34m\u001b[0m\u001b[0;34m\u001b[0m\u001b[0m\n\u001b[1;32m     76\u001b[0m             \u001b[0mversion\u001b[0m \u001b[0;34m+=\u001b[0m \u001b[0;36m1\u001b[0m\u001b[0;34m\u001b[0m\u001b[0;34m\u001b[0m\u001b[0m\n",
            "\u001b[0;32m/usr/local/lib/python3.7/dist-packages/xgboost/core.py\u001b[0m in \u001b[0;36mupdate\u001b[0;34m(self, dtrain, iteration, fobj)\u001b[0m\n\u001b[1;32m   1107\u001b[0m         \u001b[0;32mif\u001b[0m \u001b[0mfobj\u001b[0m \u001b[0;32mis\u001b[0m \u001b[0;32mNone\u001b[0m\u001b[0;34m:\u001b[0m\u001b[0;34m\u001b[0m\u001b[0;34m\u001b[0m\u001b[0m\n\u001b[1;32m   1108\u001b[0m             _check_call(_LIB.XGBoosterUpdateOneIter(self.handle, ctypes.c_int(iteration),\n\u001b[0;32m-> 1109\u001b[0;31m                                                     dtrain.handle))\n\u001b[0m\u001b[1;32m   1110\u001b[0m         \u001b[0;32melse\u001b[0m\u001b[0;34m:\u001b[0m\u001b[0;34m\u001b[0m\u001b[0;34m\u001b[0m\u001b[0m\n\u001b[1;32m   1111\u001b[0m             \u001b[0mpred\u001b[0m \u001b[0;34m=\u001b[0m \u001b[0mself\u001b[0m\u001b[0;34m.\u001b[0m\u001b[0mpredict\u001b[0m\u001b[0;34m(\u001b[0m\u001b[0mdtrain\u001b[0m\u001b[0;34m)\u001b[0m\u001b[0;34m\u001b[0m\u001b[0;34m\u001b[0m\u001b[0m\n",
            "\u001b[0;31mKeyboardInterrupt\u001b[0m: "
          ]
        }
      ]
    },
    {
      "cell_type": "code",
      "metadata": {
        "colab": {
          "base_uri": "https://localhost:8080/",
          "height": 1000
        },
        "id": "Vj5fbwAKtt6y",
        "outputId": "55daedab-2d11-4a6f-e97f-26d0484229e2"
      },
      "source": [
        "fig, ax = plt.subplots(2, 3, figsize=(30,20))\n",
        "for i in range(5) :\n",
        "  xgboost.plot_importance(xgb_models[i], max_num_features=50, height=0.5, ax=ax[i%2, i%3],importance_type='weight')\n",
        "plt.show()"
      ],
      "execution_count": null,
      "outputs": [
        {
          "output_type": "display_data",
          "data": {
            "image/png": "[encoded data removed]",
            "text/plain": [
              "<Figure size 2160x1440 with 6 Axes>"
            ]
          },
          "metadata": {
            "tags": [],
            "needs_background": "light"
          }
        }
      ]
    },
    {
      "cell_type": "markdown",
      "metadata": {
        "id": "XQB-fSDsXAGS"
      },
      "source": [
        "# Get seed 81288"
      ]
    },
    {
      "cell_type": "code",
      "metadata": {
        "id": "fpOP6XBvmQHJ",
        "colab": {
          "base_uri": "https://localhost:8080/",
          "height": 224
        },
        "outputId": "b7de808b-f4ad-4ab6-ef9d-879f1fbbf76d"
      },
      "source": [
        "train.head()"
      ],
      "execution_count": 211,
      "outputs": [
        {
          "output_type": "execute_result",
          "data": {
            "text/html": [
              "<div>\n",
              "<style scoped>\n",
              "    .dataframe tbody tr th:only-of-type {\n",
              "        vertical-align: middle;\n",
              "    }\n",
              "\n",
              "    .dataframe tbody tr th {\n",
              "        vertical-align: top;\n",
              "    }\n",
              "\n",
              "    .dataframe thead th {\n",
              "        text-align: right;\n",
              "    }\n",
              "</style>\n",
              "<table border=\"1\" class=\"dataframe\">\n",
              "  <thead>\n",
              "    <tr style=\"text-align: right;\">\n",
              "      <th></th>\n",
              "      <th>child_num</th>\n",
              "      <th>income_total</th>\n",
              "      <th>DAYS_BIRTH</th>\n",
              "      <th>DAYS_EMPLOYED</th>\n",
              "      <th>work_phone</th>\n",
              "      <th>phone</th>\n",
              "      <th>email</th>\n",
              "      <th>family_size</th>\n",
              "      <th>begin_month</th>\n",
              "      <th>credit</th>\n",
              "      <th>gender_mapping</th>\n",
              "      <th>car_mapping</th>\n",
              "      <th>reality_mapping</th>\n",
              "    </tr>\n",
              "  </thead>\n",
              "  <tbody>\n",
              "    <tr>\n",
              "      <th>0</th>\n",
              "      <td>0</td>\n",
              "      <td>0.149133</td>\n",
              "      <td>0.355018</td>\n",
              "      <td>0.299688</td>\n",
              "      <td>0</td>\n",
              "      <td>0</td>\n",
              "      <td>0</td>\n",
              "      <td>2.0</td>\n",
              "      <td>0.100000</td>\n",
              "      <td>1.0</td>\n",
              "      <td>0</td>\n",
              "      <td>0</td>\n",
              "      <td>0</td>\n",
              "    </tr>\n",
              "    <tr>\n",
              "      <th>1</th>\n",
              "      <td>1</td>\n",
              "      <td>0.590837</td>\n",
              "      <td>0.210638</td>\n",
              "      <td>0.098008</td>\n",
              "      <td>0</td>\n",
              "      <td>0</td>\n",
              "      <td>1</td>\n",
              "      <td>3.0</td>\n",
              "      <td>0.083333</td>\n",
              "      <td>1.0</td>\n",
              "      <td>0</td>\n",
              "      <td>0</td>\n",
              "      <td>1</td>\n",
              "    </tr>\n",
              "    <tr>\n",
              "      <th>2</th>\n",
              "      <td>0</td>\n",
              "      <td>2.578501</td>\n",
              "      <td>0.652376</td>\n",
              "      <td>0.282187</td>\n",
              "      <td>0</td>\n",
              "      <td>1</td>\n",
              "      <td>0</td>\n",
              "      <td>2.0</td>\n",
              "      <td>0.366667</td>\n",
              "      <td>2.0</td>\n",
              "      <td>1</td>\n",
              "      <td>1</td>\n",
              "      <td>1</td>\n",
              "    </tr>\n",
              "    <tr>\n",
              "      <th>3</th>\n",
              "      <td>0</td>\n",
              "      <td>0.149133</td>\n",
              "      <td>0.423167</td>\n",
              "      <td>0.133138</td>\n",
              "      <td>0</td>\n",
              "      <td>1</td>\n",
              "      <td>0</td>\n",
              "      <td>2.0</td>\n",
              "      <td>0.616667</td>\n",
              "      <td>0.0</td>\n",
              "      <td>0</td>\n",
              "      <td>0</td>\n",
              "      <td>1</td>\n",
              "    </tr>\n",
              "    <tr>\n",
              "      <th>4</th>\n",
              "      <td>0</td>\n",
              "      <td>-0.292570</td>\n",
              "      <td>0.420244</td>\n",
              "      <td>0.133966</td>\n",
              "      <td>0</td>\n",
              "      <td>0</td>\n",
              "      <td>0</td>\n",
              "      <td>2.0</td>\n",
              "      <td>0.433333</td>\n",
              "      <td>2.0</td>\n",
              "      <td>0</td>\n",
              "      <td>1</td>\n",
              "      <td>1</td>\n",
              "    </tr>\n",
              "  </tbody>\n",
              "</table>\n",
              "</div>"
            ],
            "text/plain": [
              "   child_num  income_total  ...  car_mapping  reality_mapping\n",
              "0          0      0.149133  ...            0                0\n",
              "1          1      0.590837  ...            0                1\n",
              "2          0      2.578501  ...            1                1\n",
              "3          0      0.149133  ...            0                1\n",
              "4          0     -0.292570  ...            1                1\n",
              "\n",
              "[5 rows x 13 columns]"
            ]
          },
          "metadata": {
            "tags": []
          },
          "execution_count": 211
        }
      ]
    }
  ]
}