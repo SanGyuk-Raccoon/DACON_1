{
  "nbformat": 4,
  "nbformat_minor": 0,
  "metadata": {
    "colab": {
      "name": "Pytorch (1)",
      "provenance": [],
      "authorship_tag": "ABX9TyPTqgTuLIPlSZ5ddxebntv9",
      "include_colab_link": true
    },
    "kernelspec": {
      "name": "python3",
      "display_name": "Python 3"
    },
    "language_info": {
      "name": "python"
    }
  },
  "cells": [
    {
      "cell_type": "markdown",
      "metadata": {
        "id": "view-in-github",
        "colab_type": "text"
      },
      "source": [
        "<a href=\"https://colab.research.google.com/github/SanGyuk-Raccoon/DACON_1/blob/main/Pytorch_(1).ipynb\" target=\"_parent\"><img src=\"https://colab.research.google.com/assets/colab-badge.svg\" alt=\"Open In Colab\"/></a>"
      ]
    },
    {
      "cell_type": "code",
      "metadata": {
        "id": "7b6IV_FOuVM8"
      },
      "source": [
        "import torch\n",
        "import numpy as np"
      ],
      "execution_count": 1,
      "outputs": []
    },
    {
      "cell_type": "code",
      "metadata": {
        "colab": {
          "base_uri": "https://localhost:8080/"
        },
        "id": "3VS54_Z0uYrj",
        "outputId": "65f2ece1-feac-414c-d514-4422b4abd52d"
      },
      "source": [
        "x = torch.empty(3, 4)\n",
        "print(x)"
      ],
      "execution_count": 2,
      "outputs": [
        {
          "output_type": "stream",
          "text": [
            "tensor([[8.2426e+05, 3.0667e-41, 3.3631e-44, 0.0000e+00],\n",
            "        [       nan, 6.4460e-44, 1.1578e+27, 1.1362e+30],\n",
            "        [7.1547e+22, 4.5828e+30, 1.2121e+04, 7.1846e+22]])\n"
          ],
          "name": "stdout"
        }
      ]
    },
    {
      "cell_type": "code",
      "metadata": {
        "colab": {
          "base_uri": "https://localhost:8080/"
        },
        "id": "s0FESHKdudpz",
        "outputId": "5a965c1e-7484-4706-e1dd-97cb016b3aef"
      },
      "source": [
        "torch.ones(3, 3)"
      ],
      "execution_count": 3,
      "outputs": [
        {
          "output_type": "execute_result",
          "data": {
            "text/plain": [
              "tensor([[1., 1., 1.],\n",
              "        [1., 1., 1.],\n",
              "        [1., 1., 1.]])"
            ]
          },
          "metadata": {
            "tags": []
          },
          "execution_count": 3
        }
      ]
    },
    {
      "cell_type": "code",
      "metadata": {
        "colab": {
          "base_uri": "https://localhost:8080/"
        },
        "id": "e1_6na1CujEO",
        "outputId": "375411d6-8666-4ebf-dfe7-f454257489e0"
      },
      "source": [
        "torch.zeros(2)"
      ],
      "execution_count": 7,
      "outputs": [
        {
          "output_type": "execute_result",
          "data": {
            "text/plain": [
              "tensor([0., 0.])"
            ]
          },
          "metadata": {
            "tags": []
          },
          "execution_count": 7
        }
      ]
    },
    {
      "cell_type": "code",
      "metadata": {
        "colab": {
          "base_uri": "https://localhost:8080/"
        },
        "id": "OajwhVpjupjw",
        "outputId": "d69b6618-6535-4af0-e24d-f7db394e6df9"
      },
      "source": [
        "torch.rand(5, 6)"
      ],
      "execution_count": 8,
      "outputs": [
        {
          "output_type": "execute_result",
          "data": {
            "text/plain": [
              "tensor([[0.1282, 0.6502, 0.4181, 0.7074, 0.2650, 0.3776],\n",
              "        [0.9111, 0.7152, 0.6340, 0.4744, 0.4897, 0.8755],\n",
              "        [0.7681, 0.0067, 0.0835, 0.5679, 0.4589, 0.3635],\n",
              "        [0.2270, 0.3942, 0.0844, 0.0412, 0.0628, 0.0812],\n",
              "        [0.3613, 0.6649, 0.0756, 0.7559, 0.3080, 0.9932]])"
            ]
          },
          "metadata": {
            "tags": []
          },
          "execution_count": 8
        }
      ]
    },
    {
      "cell_type": "code",
      "metadata": {
        "id": "9qiQSjhdusEH"
      },
      "source": [
        "lst = [1, 2, 3]\n",
        "arr = np.array([1, 2, 3])"
      ],
      "execution_count": 9,
      "outputs": []
    },
    {
      "cell_type": "code",
      "metadata": {
        "colab": {
          "base_uri": "https://localhost:8080/"
        },
        "id": "VtAWSPptu-DD",
        "outputId": "70453e60-fd31-43ac-87f0-3c98fa059ad0"
      },
      "source": [
        "lst"
      ],
      "execution_count": 10,
      "outputs": [
        {
          "output_type": "execute_result",
          "data": {
            "text/plain": [
              "[1, 2, 3]"
            ]
          },
          "metadata": {
            "tags": []
          },
          "execution_count": 10
        }
      ]
    },
    {
      "cell_type": "code",
      "metadata": {
        "colab": {
          "base_uri": "https://localhost:8080/"
        },
        "id": "h_MIj4asu-hm",
        "outputId": "e1382a4c-1d6f-4986-daf3-d37cbf6e357e"
      },
      "source": [
        "arr"
      ],
      "execution_count": 11,
      "outputs": [
        {
          "output_type": "execute_result",
          "data": {
            "text/plain": [
              "array([1, 2, 3])"
            ]
          },
          "metadata": {
            "tags": []
          },
          "execution_count": 11
        }
      ]
    },
    {
      "cell_type": "code",
      "metadata": {
        "colab": {
          "base_uri": "https://localhost:8080/"
        },
        "id": "Ci3M80e9u-1L",
        "outputId": "6f86a4c1-cae5-4c60-d2f3-64ce66351d47"
      },
      "source": [
        "torch.tensor(lst)"
      ],
      "execution_count": 12,
      "outputs": [
        {
          "output_type": "execute_result",
          "data": {
            "text/plain": [
              "tensor([1, 2, 3])"
            ]
          },
          "metadata": {
            "tags": []
          },
          "execution_count": 12
        }
      ]
    },
    {
      "cell_type": "code",
      "metadata": {
        "colab": {
          "base_uri": "https://localhost:8080/"
        },
        "id": "Eo5a9CIAvAmi",
        "outputId": "3533ee41-0642-4c9f-b828-0a9bf239a551"
      },
      "source": [
        "torch.tensor(arr)"
      ],
      "execution_count": 13,
      "outputs": [
        {
          "output_type": "execute_result",
          "data": {
            "text/plain": [
              "tensor([1, 2, 3])"
            ]
          },
          "metadata": {
            "tags": []
          },
          "execution_count": 13
        }
      ]
    },
    {
      "cell_type": "code",
      "metadata": {
        "colab": {
          "base_uri": "https://localhost:8080/"
        },
        "id": "0Q14VmZ0vCvt",
        "outputId": "243a567b-9918-4220-9d26-7c0e5c3bbfcc"
      },
      "source": [
        "x = torch.rand(2, 2)\n",
        "y = torch.rand(2, 2)\n",
        "\n",
        "print(x)\n",
        "print(y)"
      ],
      "execution_count": 14,
      "outputs": [
        {
          "output_type": "stream",
          "text": [
            "tensor([[0.1884, 0.2952],\n",
            "        [0.0934, 0.2587]])\n",
            "tensor([[0.9203, 0.5621],\n",
            "        [0.4505, 0.4203]])\n"
          ],
          "name": "stdout"
        }
      ]
    },
    {
      "cell_type": "code",
      "metadata": {
        "colab": {
          "base_uri": "https://localhost:8080/"
        },
        "id": "vhtnGOHovQLM",
        "outputId": "04331bb6-94f9-482d-98d5-e3e9c352ec58"
      },
      "source": [
        "x + y"
      ],
      "execution_count": 15,
      "outputs": [
        {
          "output_type": "execute_result",
          "data": {
            "text/plain": [
              "tensor([[1.1087, 0.8573],\n",
              "        [0.5439, 0.6790]])"
            ]
          },
          "metadata": {
            "tags": []
          },
          "execution_count": 15
        }
      ]
    },
    {
      "cell_type": "code",
      "metadata": {
        "colab": {
          "base_uri": "https://localhost:8080/"
        },
        "id": "wH7TX5G4vRGy",
        "outputId": "f74d1aae-fab5-4e2a-9dbc-e186d9142b37"
      },
      "source": [
        "torch.add(x, y)"
      ],
      "execution_count": 16,
      "outputs": [
        {
          "output_type": "execute_result",
          "data": {
            "text/plain": [
              "tensor([[1.1087, 0.8573],\n",
              "        [0.5439, 0.6790]])"
            ]
          },
          "metadata": {
            "tags": []
          },
          "execution_count": 16
        }
      ]
    },
    {
      "cell_type": "code",
      "metadata": {
        "colab": {
          "base_uri": "https://localhost:8080/"
        },
        "id": "IbIIIEp5vSjr",
        "outputId": "92879364-812f-432f-ec19-9ba467e28c1d"
      },
      "source": [
        "y.add(x)"
      ],
      "execution_count": 17,
      "outputs": [
        {
          "output_type": "execute_result",
          "data": {
            "text/plain": [
              "tensor([[1.1087, 0.8573],\n",
              "        [0.5439, 0.6790]])"
            ]
          },
          "metadata": {
            "tags": []
          },
          "execution_count": 17
        }
      ]
    },
    {
      "cell_type": "code",
      "metadata": {
        "colab": {
          "base_uri": "https://localhost:8080/"
        },
        "id": "JvwByvW1vUBn",
        "outputId": "bcec6f2e-95c0-402d-e388-993d8e6be9c0"
      },
      "source": [
        "x.add(y)"
      ],
      "execution_count": 18,
      "outputs": [
        {
          "output_type": "execute_result",
          "data": {
            "text/plain": [
              "tensor([[1.1087, 0.8573],\n",
              "        [0.5439, 0.6790]])"
            ]
          },
          "metadata": {
            "tags": []
          },
          "execution_count": 18
        }
      ]
    },
    {
      "cell_type": "code",
      "metadata": {
        "colab": {
          "base_uri": "https://localhost:8080/"
        },
        "id": "iD7H8LIovUvo",
        "outputId": "acfe712c-65b1-4eb3-bbdd-447fc5b3a610"
      },
      "source": [
        "y.add_(x) # 더한 값으로 업데이트함"
      ],
      "execution_count": 19,
      "outputs": [
        {
          "output_type": "execute_result",
          "data": {
            "text/plain": [
              "tensor([[1.1087, 0.8573],\n",
              "        [0.5439, 0.6790]])"
            ]
          },
          "metadata": {
            "tags": []
          },
          "execution_count": 19
        }
      ]
    },
    {
      "cell_type": "code",
      "metadata": {
        "colab": {
          "base_uri": "https://localhost:8080/"
        },
        "id": "Ish5d61KvbIc",
        "outputId": "b56cf5c5-604f-49c0-c6cd-8f6a17648684"
      },
      "source": [
        "# 인덱스 슬라이싱\n",
        "y[:, 1]"
      ],
      "execution_count": 20,
      "outputs": [
        {
          "output_type": "execute_result",
          "data": {
            "text/plain": [
              "tensor([0.8573, 0.6790])"
            ]
          },
          "metadata": {
            "tags": []
          },
          "execution_count": 20
        }
      ]
    },
    {
      "cell_type": "code",
      "metadata": {
        "colab": {
          "base_uri": "https://localhost:8080/"
        },
        "id": "zuR0YGesvlhm",
        "outputId": "1abc7cfc-990b-4f8f-8fb3-64bd975c0e89"
      },
      "source": [
        "x = torch.rand(8, 8)\n",
        "print(x)"
      ],
      "execution_count": 21,
      "outputs": [
        {
          "output_type": "stream",
          "text": [
            "tensor([[0.0214, 0.5172, 0.4655, 0.8817, 0.8821, 0.0023, 0.8226, 0.2263],\n",
            "        [0.3134, 0.2173, 0.1538, 0.3809, 0.9850, 0.5018, 0.4293, 0.8909],\n",
            "        [0.0140, 0.6238, 0.3258, 0.5183, 0.0056, 0.7205, 0.8230, 0.8128],\n",
            "        [0.7496, 0.4634, 0.8310, 0.7676, 0.3391, 0.1441, 0.2929, 0.7896],\n",
            "        [0.6677, 0.1086, 0.9356, 0.9506, 0.6686, 0.2363, 0.5484, 0.9522],\n",
            "        [0.9497, 0.9434, 0.0513, 0.7363, 0.6676, 0.1738, 0.0121, 0.0133],\n",
            "        [0.7569, 0.5398, 0.8727, 0.9783, 0.3996, 0.4072, 0.1508, 0.8894],\n",
            "        [0.1582, 0.5791, 0.5157, 0.0488, 0.2638, 0.0184, 0.7902, 0.7430]])\n"
          ],
          "name": "stdout"
        }
      ]
    },
    {
      "cell_type": "code",
      "metadata": {
        "colab": {
          "base_uri": "https://localhost:8080/"
        },
        "id": "Xhgpxmi4v5vB",
        "outputId": "f4dc1b2e-aac9-4bd7-f4b6-0e357643df82"
      },
      "source": [
        "x.view(64)"
      ],
      "execution_count": 23,
      "outputs": [
        {
          "output_type": "execute_result",
          "data": {
            "text/plain": [
              "tensor([0.0214, 0.5172, 0.4655, 0.8817, 0.8821, 0.0023, 0.8226, 0.2263, 0.3134,\n",
              "        0.2173, 0.1538, 0.3809, 0.9850, 0.5018, 0.4293, 0.8909, 0.0140, 0.6238,\n",
              "        0.3258, 0.5183, 0.0056, 0.7205, 0.8230, 0.8128, 0.7496, 0.4634, 0.8310,\n",
              "        0.7676, 0.3391, 0.1441, 0.2929, 0.7896, 0.6677, 0.1086, 0.9356, 0.9506,\n",
              "        0.6686, 0.2363, 0.5484, 0.9522, 0.9497, 0.9434, 0.0513, 0.7363, 0.6676,\n",
              "        0.1738, 0.0121, 0.0133, 0.7569, 0.5398, 0.8727, 0.9783, 0.3996, 0.4072,\n",
              "        0.1508, 0.8894, 0.1582, 0.5791, 0.5157, 0.0488, 0.2638, 0.0184, 0.7902,\n",
              "        0.7430])"
            ]
          },
          "metadata": {
            "tags": []
          },
          "execution_count": 23
        }
      ]
    },
    {
      "cell_type": "code",
      "metadata": {
        "colab": {
          "base_uri": "https://localhost:8080/"
        },
        "id": "4SL0X3m3v-su",
        "outputId": "bf3cbad3-77d6-46ee-f7c4-429269b01b35"
      },
      "source": [
        "x.view(4, 16)"
      ],
      "execution_count": 24,
      "outputs": [
        {
          "output_type": "execute_result",
          "data": {
            "text/plain": [
              "tensor([[0.0214, 0.5172, 0.4655, 0.8817, 0.8821, 0.0023, 0.8226, 0.2263, 0.3134,\n",
              "         0.2173, 0.1538, 0.3809, 0.9850, 0.5018, 0.4293, 0.8909],\n",
              "        [0.0140, 0.6238, 0.3258, 0.5183, 0.0056, 0.7205, 0.8230, 0.8128, 0.7496,\n",
              "         0.4634, 0.8310, 0.7676, 0.3391, 0.1441, 0.2929, 0.7896],\n",
              "        [0.6677, 0.1086, 0.9356, 0.9506, 0.6686, 0.2363, 0.5484, 0.9522, 0.9497,\n",
              "         0.9434, 0.0513, 0.7363, 0.6676, 0.1738, 0.0121, 0.0133],\n",
              "        [0.7569, 0.5398, 0.8727, 0.9783, 0.3996, 0.4072, 0.1508, 0.8894, 0.1582,\n",
              "         0.5791, 0.5157, 0.0488, 0.2638, 0.0184, 0.7902, 0.7430]])"
            ]
          },
          "metadata": {
            "tags": []
          },
          "execution_count": 24
        }
      ]
    },
    {
      "cell_type": "code",
      "metadata": {
        "colab": {
          "base_uri": "https://localhost:8080/"
        },
        "id": "lhvMXwQrwAGV",
        "outputId": "c6b573ff-b197-407b-f86b-919525536cdc"
      },
      "source": [
        "x.view(-1, 16)"
      ],
      "execution_count": 25,
      "outputs": [
        {
          "output_type": "execute_result",
          "data": {
            "text/plain": [
              "tensor([[0.0214, 0.5172, 0.4655, 0.8817, 0.8821, 0.0023, 0.8226, 0.2263, 0.3134,\n",
              "         0.2173, 0.1538, 0.3809, 0.9850, 0.5018, 0.4293, 0.8909],\n",
              "        [0.0140, 0.6238, 0.3258, 0.5183, 0.0056, 0.7205, 0.8230, 0.8128, 0.7496,\n",
              "         0.4634, 0.8310, 0.7676, 0.3391, 0.1441, 0.2929, 0.7896],\n",
              "        [0.6677, 0.1086, 0.9356, 0.9506, 0.6686, 0.2363, 0.5484, 0.9522, 0.9497,\n",
              "         0.9434, 0.0513, 0.7363, 0.6676, 0.1738, 0.0121, 0.0133],\n",
              "        [0.7569, 0.5398, 0.8727, 0.9783, 0.3996, 0.4072, 0.1508, 0.8894, 0.1582,\n",
              "         0.5791, 0.5157, 0.0488, 0.2638, 0.0184, 0.7902, 0.7430]])"
            ]
          },
          "metadata": {
            "tags": []
          },
          "execution_count": 25
        }
      ]
    },
    {
      "cell_type": "code",
      "metadata": {
        "colab": {
          "base_uri": "https://localhost:8080/"
        },
        "id": "dQLRGQAywBoK",
        "outputId": "7b85832a-21d5-46a0-bdd2-9cf614569f72"
      },
      "source": [
        "x.view(4, -1)"
      ],
      "execution_count": 26,
      "outputs": [
        {
          "output_type": "execute_result",
          "data": {
            "text/plain": [
              "tensor([[0.0214, 0.5172, 0.4655, 0.8817, 0.8821, 0.0023, 0.8226, 0.2263, 0.3134,\n",
              "         0.2173, 0.1538, 0.3809, 0.9850, 0.5018, 0.4293, 0.8909],\n",
              "        [0.0140, 0.6238, 0.3258, 0.5183, 0.0056, 0.7205, 0.8230, 0.8128, 0.7496,\n",
              "         0.4634, 0.8310, 0.7676, 0.3391, 0.1441, 0.2929, 0.7896],\n",
              "        [0.6677, 0.1086, 0.9356, 0.9506, 0.6686, 0.2363, 0.5484, 0.9522, 0.9497,\n",
              "         0.9434, 0.0513, 0.7363, 0.6676, 0.1738, 0.0121, 0.0133],\n",
              "        [0.7569, 0.5398, 0.8727, 0.9783, 0.3996, 0.4072, 0.1508, 0.8894, 0.1582,\n",
              "         0.5791, 0.5157, 0.0488, 0.2638, 0.0184, 0.7902, 0.7430]])"
            ]
          },
          "metadata": {
            "tags": []
          },
          "execution_count": 26
        }
      ]
    },
    {
      "cell_type": "code",
      "metadata": {
        "colab": {
          "base_uri": "https://localhost:8080/"
        },
        "id": "m1DEuAUcwDD3",
        "outputId": "1c1b2706-ab9e-4cdc-8ad8-fd5e24f4585e"
      },
      "source": [
        "x.view(-1, 4, 4)"
      ],
      "execution_count": 27,
      "outputs": [
        {
          "output_type": "execute_result",
          "data": {
            "text/plain": [
              "tensor([[[0.0214, 0.5172, 0.4655, 0.8817],\n",
              "         [0.8821, 0.0023, 0.8226, 0.2263],\n",
              "         [0.3134, 0.2173, 0.1538, 0.3809],\n",
              "         [0.9850, 0.5018, 0.4293, 0.8909]],\n",
              "\n",
              "        [[0.0140, 0.6238, 0.3258, 0.5183],\n",
              "         [0.0056, 0.7205, 0.8230, 0.8128],\n",
              "         [0.7496, 0.4634, 0.8310, 0.7676],\n",
              "         [0.3391, 0.1441, 0.2929, 0.7896]],\n",
              "\n",
              "        [[0.6677, 0.1086, 0.9356, 0.9506],\n",
              "         [0.6686, 0.2363, 0.5484, 0.9522],\n",
              "         [0.9497, 0.9434, 0.0513, 0.7363],\n",
              "         [0.6676, 0.1738, 0.0121, 0.0133]],\n",
              "\n",
              "        [[0.7569, 0.5398, 0.8727, 0.9783],\n",
              "         [0.3996, 0.4072, 0.1508, 0.8894],\n",
              "         [0.1582, 0.5791, 0.5157, 0.0488],\n",
              "         [0.2638, 0.0184, 0.7902, 0.7430]]])"
            ]
          },
          "metadata": {
            "tags": []
          },
          "execution_count": 27
        }
      ]
    },
    {
      "cell_type": "code",
      "metadata": {
        "colab": {
          "base_uri": "https://localhost:8080/"
        },
        "id": "5t_xdMnpwK3q",
        "outputId": "50b3daf7-d3c5-4730-b797-b5f4b69f944d"
      },
      "source": [
        "x.numpy()"
      ],
      "execution_count": 29,
      "outputs": [
        {
          "output_type": "execute_result",
          "data": {
            "text/plain": [
              "array([[0.02141845, 0.51715904, 0.46551985, 0.8817026 , 0.8820751 ,\n",
              "        0.00233251, 0.8225669 , 0.2263332 ],\n",
              "       [0.31337595, 0.21731788, 0.15380448, 0.38089645, 0.9849589 ,\n",
              "        0.5018125 , 0.42927235, 0.8908504 ],\n",
              "       [0.01398444, 0.62376964, 0.32579452, 0.5182759 , 0.00559264,\n",
              "        0.7204748 , 0.8230104 , 0.81282073],\n",
              "       [0.7495815 , 0.46336138, 0.83103395, 0.7676118 , 0.33913237,\n",
              "        0.14406121, 0.29289883, 0.7896227 ],\n",
              "       [0.667685  , 0.10860628, 0.9355635 , 0.95058405, 0.6685946 ,\n",
              "        0.23629874, 0.5484197 , 0.9522051 ],\n",
              "       [0.9497337 , 0.9434418 , 0.05131221, 0.736344  , 0.66760993,\n",
              "        0.17376983, 0.01206493, 0.01330286],\n",
              "       [0.75693214, 0.53979886, 0.8727113 , 0.97834986, 0.39964074,\n",
              "        0.40717393, 0.15076607, 0.8894081 ],\n",
              "       [0.15815592, 0.5791118 , 0.51573986, 0.04875445, 0.26382715,\n",
              "        0.01843643, 0.7902425 , 0.7430464 ]], dtype=float32)"
            ]
          },
          "metadata": {
            "tags": []
          },
          "execution_count": 29
        }
      ]
    },
    {
      "cell_type": "code",
      "metadata": {
        "colab": {
          "base_uri": "https://localhost:8080/"
        },
        "id": "YK1mucEswPzY",
        "outputId": "4a3bc3f9-d130-4c9f-91f4-d3f316083cbc"
      },
      "source": [
        "x = torch.ones(1)\n",
        "x"
      ],
      "execution_count": 31,
      "outputs": [
        {
          "output_type": "execute_result",
          "data": {
            "text/plain": [
              "tensor([1.])"
            ]
          },
          "metadata": {
            "tags": []
          },
          "execution_count": 31
        }
      ]
    },
    {
      "cell_type": "code",
      "metadata": {
        "colab": {
          "base_uri": "https://localhost:8080/"
        },
        "id": "a_l8o05WwVGc",
        "outputId": "8fba52e5-6d96-4b82-db4c-dcc17507184a"
      },
      "source": [
        "x.item()"
      ],
      "execution_count": 32,
      "outputs": [
        {
          "output_type": "execute_result",
          "data": {
            "text/plain": [
              "1.0"
            ]
          },
          "metadata": {
            "tags": []
          },
          "execution_count": 32
        }
      ]
    }
  ]
}